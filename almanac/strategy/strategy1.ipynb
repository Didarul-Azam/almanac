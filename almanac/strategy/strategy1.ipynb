{
 "cells": [
  {
   "cell_type": "code",
   "execution_count": 1,
   "metadata": {},
   "outputs": [],
   "source": [
    "from almanac.strategy.strategy1 import Strategy1"
   ]
  },
  {
   "cell_type": "code",
   "execution_count": 2,
   "metadata": {},
   "outputs": [],
   "source": [
    "strat = Strategy1(data_path='/home/ornob/Documents/sp500.csv', multiplier=5, capital=100000, risk_target=0.2)"
   ]
  },
  {
   "cell_type": "code",
   "execution_count": 3,
   "metadata": {},
   "outputs": [
    {
     "name": "stdout",
     "output_type": "stream",
     "text": [
      "{'ann_mean': 0.050194640091978465, 'ann_std': 0.19549766807317548, 'sharpe_ratio': 0.2567531397519812, 'skew': -3.6687529381837276, 'avg_drawdown': 0.2333119205507957, 'max_drawdown': 1.2141040208288036, 'quant_ratio_lower': 2.2302136448277934, 'quant_ratio_upper': 1.6017921571611629}\n"
     ]
    }
   ],
   "source": [
    "strat.show_stats()"
   ]
  },
  {
   "cell_type": "code",
   "execution_count": 6,
   "metadata": {},
   "outputs": [],
   "source": [
    "returns = strat.get_return()"
   ]
  },
  {
   "cell_type": "code",
   "execution_count": 7,
   "metadata": {},
   "outputs": [
    {
     "data": {
      "text/plain": [
       "1982-09-14         NaN\n",
       "1982-09-15    0.004026\n",
       "1982-09-16   -0.005261\n",
       "1982-09-17   -0.007338\n",
       "1982-09-20    0.006480\n",
       "                ...   \n",
       "2022-09-26   -0.012066\n",
       "2022-09-27   -0.000546\n",
       "2022-09-28    0.017293\n",
       "2022-09-29   -0.019406\n",
       "2022-09-30   -0.004737\n",
       "Length: 10188, dtype: float64"
      ]
     },
     "execution_count": 7,
     "metadata": {},
     "output_type": "execute_result"
    }
   ],
   "source": [
    "returns"
   ]
  },
  {
   "cell_type": "code",
   "execution_count": null,
   "metadata": {},
   "outputs": [],
   "source": []
  }
 ],
 "metadata": {
  "kernelspec": {
   "display_name": "almanac",
   "language": "python",
   "name": "python3"
  },
  "language_info": {
   "codemirror_mode": {
    "name": "ipython",
    "version": 3
   },
   "file_extension": ".py",
   "mimetype": "text/x-python",
   "name": "python",
   "nbconvert_exporter": "python",
   "pygments_lexer": "ipython3",
   "version": "3.10.13"
  },
  "orig_nbformat": 4
 },
 "nbformat": 4,
 "nbformat_minor": 2
}
