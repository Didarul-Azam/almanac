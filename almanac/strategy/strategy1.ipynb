{
 "cells": [
  {
   "cell_type": "code",
   "execution_count": 24,
   "metadata": {},
   "outputs": [],
   "source": [
    "from almanac.data.data import Read_csv\n"
   ]
  },
  {
   "cell_type": "code",
   "execution_count": 25,
   "metadata": {},
   "outputs": [],
   "source": [
    "from almanac.analysis.calculate_returns import calculate_perc_returns"
   ]
  },
  {
   "cell_type": "code",
   "execution_count": 26,
   "metadata": {},
   "outputs": [],
   "source": [
    "from almanac.utils.utils import *\n",
    "\n"
   ]
  },
  {
   "cell_type": "code",
   "execution_count": 27,
   "metadata": {},
   "outputs": [],
   "source": [
    "from almanac.analysis.calculate_stats import Stats"
   ]
  },
  {
   "cell_type": "code",
   "execution_count": 28,
   "metadata": {},
   "outputs": [],
   "source": [
    "reader = Read_csv(filename='/home/mehedi/Document/carver_strategies/data/jumbo/SP500_micro.csv')"
   ]
  },
  {
   "cell_type": "code",
   "execution_count": 29,
   "metadata": {},
   "outputs": [
    {
     "data": {
      "text/html": [
       "<div>\n",
       "<style scoped>\n",
       "    .dataframe tbody tr th:only-of-type {\n",
       "        vertical-align: middle;\n",
       "    }\n",
       "\n",
       "    .dataframe tbody tr th {\n",
       "        vertical-align: top;\n",
       "    }\n",
       "\n",
       "    .dataframe thead th {\n",
       "        text-align: right;\n",
       "    }\n",
       "</style>\n",
       "<table border=\"1\" class=\"dataframe\">\n",
       "  <thead>\n",
       "    <tr style=\"text-align: right;\">\n",
       "      <th></th>\n",
       "      <th>adjusted</th>\n",
       "      <th>underlying</th>\n",
       "    </tr>\n",
       "  </thead>\n",
       "  <tbody>\n",
       "    <tr>\n",
       "      <th>1982-09-14</th>\n",
       "      <td>64.23</td>\n",
       "      <td>123.70</td>\n",
       "    </tr>\n",
       "    <tr>\n",
       "      <th>1982-09-15</th>\n",
       "      <td>64.49</td>\n",
       "      <td>124.20</td>\n",
       "    </tr>\n",
       "    <tr>\n",
       "      <th>1982-09-16</th>\n",
       "      <td>64.16</td>\n",
       "      <td>123.55</td>\n",
       "    </tr>\n",
       "    <tr>\n",
       "      <th>1982-09-17</th>\n",
       "      <td>63.69</td>\n",
       "      <td>122.65</td>\n",
       "    </tr>\n",
       "    <tr>\n",
       "      <th>1982-09-20</th>\n",
       "      <td>64.10</td>\n",
       "      <td>123.45</td>\n",
       "    </tr>\n",
       "    <tr>\n",
       "      <th>...</th>\n",
       "      <td>...</td>\n",
       "      <td>...</td>\n",
       "    </tr>\n",
       "    <tr>\n",
       "      <th>2022-12-22</th>\n",
       "      <td>3857.50</td>\n",
       "      <td>3847.50</td>\n",
       "    </tr>\n",
       "    <tr>\n",
       "      <th>2022-12-23</th>\n",
       "      <td>3826.25</td>\n",
       "      <td>3868.50</td>\n",
       "    </tr>\n",
       "    <tr>\n",
       "      <th>2022-12-27</th>\n",
       "      <td>3846.00</td>\n",
       "      <td>3856.25</td>\n",
       "    </tr>\n",
       "    <tr>\n",
       "      <th>2022-12-28</th>\n",
       "      <td>3862.00</td>\n",
       "      <td>3810.50</td>\n",
       "    </tr>\n",
       "    <tr>\n",
       "      <th>2022-12-29</th>\n",
       "      <td>3854.50</td>\n",
       "      <td>3869.25</td>\n",
       "    </tr>\n",
       "  </tbody>\n",
       "</table>\n",
       "<p>10436 rows × 2 columns</p>\n",
       "</div>"
      ],
      "text/plain": [
       "            adjusted  underlying\n",
       "1982-09-14     64.23      123.70\n",
       "1982-09-15     64.49      124.20\n",
       "1982-09-16     64.16      123.55\n",
       "1982-09-17     63.69      122.65\n",
       "1982-09-20     64.10      123.45\n",
       "...              ...         ...\n",
       "2022-12-22   3857.50     3847.50\n",
       "2022-12-23   3826.25     3868.50\n",
       "2022-12-27   3846.00     3856.25\n",
       "2022-12-28   3862.00     3810.50\n",
       "2022-12-29   3854.50     3869.25\n",
       "\n",
       "[10436 rows x 2 columns]"
      ]
     },
     "execution_count": 29,
     "metadata": {},
     "output_type": "execute_result"
    }
   ],
   "source": [
    "data = reader.pd_readcsv()\n",
    "data"
   ]
  },
  {
   "cell_type": "code",
   "execution_count": 30,
   "metadata": {},
   "outputs": [],
   "source": [
    "adjusted_price = data.adjusted\n",
    "current_price = data.underlying\n",
    "multiplier = 5\n",
    "fx_series = pd.Series(1, index=data.index)  \n",
    "position_contracts_held = pd.Series(1, index=data.index)  \n",
    "\n",
    "capital_required = multiplier * current_price \n"
   ]
  },
  {
   "cell_type": "code",
   "execution_count": 31,
   "metadata": {},
   "outputs": [],
   "source": [
    "perc_return = calculate_perc_returns(\n",
    "    position_contracts_held=position_contracts_held,\n",
    "    adjusted_price = adjusted_price,\n",
    "    fx_series=fx_series,\n",
    "    capital_required=capital_required,\n",
    "    multiplier=multiplier\n",
    ")\n",
    "\n"
   ]
  },
  {
   "cell_type": "code",
   "execution_count": 32,
   "metadata": {},
   "outputs": [],
   "source": [
    "a = Stats(perc_return)"
   ]
  },
  {
   "cell_type": "code",
   "execution_count": 33,
   "metadata": {},
   "outputs": [],
   "source": [
    "a.stats()"
   ]
  },
  {
   "cell_type": "code",
   "execution_count": 34,
   "metadata": {},
   "outputs": [
    {
     "data": {
      "text/plain": [
       "{'ann_mean': 0.06585196239485189,\n",
       " 'ann_std': 0.1809385539163615,\n",
       " 'sharpe_ratio': 0.3639465496407793,\n",
       " 'skew': -1.3573059970080554,\n",
       " 'avg_drawdown': 0.13717618986430086,\n",
       " 'max_drawdown': 1.0092391466728226,\n",
       " 'quant_ratio_lower': 2.50673620513012,\n",
       " 'quant_ratio_upper': 1.8784002761075556}"
      ]
     },
     "execution_count": 34,
     "metadata": {},
     "output_type": "execute_result"
    }
   ],
   "source": [
    "a.stats(show=True)"
   ]
  },
  {
   "cell_type": "code",
   "execution_count": 35,
   "metadata": {},
   "outputs": [
    {
     "data": {
      "text/plain": [
       "{'ann_mean': 0.06585196239485189,\n",
       " 'ann_std': 0.1809385539163615,\n",
       " 'sharpe_ratio': 0.3639465496407793,\n",
       " 'skew': -1.3573059970080554,\n",
       " 'avg_drawdown': 0.13717618986430086,\n",
       " 'max_drawdown': 1.0092391466728226,\n",
       " 'quant_ratio_lower': 2.50673620513012,\n",
       " 'quant_ratio_upper': 1.8784002761075556}"
      ]
     },
     "execution_count": 35,
     "metadata": {},
     "output_type": "execute_result"
    }
   ],
   "source": [
    "a.show_stats()"
   ]
  },
  {
   "cell_type": "markdown",
   "metadata": {},
   "source": [
    "### Strategy 2"
   ]
  },
  {
   "cell_type": "code",
   "execution_count": 36,
   "metadata": {},
   "outputs": [],
   "source": [
    "import pandas as pd\n",
    "from almanac.data.data import Read_csv\n",
    "from almanac.analysis.calculate_returns import calculate_perc_returns\n",
    "from almanac.utils.utils import *\n",
    "from almanac.analysis.calculate_stats import Stats\n",
    "from almanac.analysis.position_sereies_fixed_risk import calculate_position_series_given_fixed_risk\n",
    "from almanac.analysis.std_for_risk import calculate_standard_deviation_for_risk_targeting"
   ]
  },
  {
   "cell_type": "code",
   "execution_count": 37,
   "metadata": {},
   "outputs": [
    {
     "data": {
      "text/html": [
       "<div>\n",
       "<style scoped>\n",
       "    .dataframe tbody tr th:only-of-type {\n",
       "        vertical-align: middle;\n",
       "    }\n",
       "\n",
       "    .dataframe tbody tr th {\n",
       "        vertical-align: top;\n",
       "    }\n",
       "\n",
       "    .dataframe thead th {\n",
       "        text-align: right;\n",
       "    }\n",
       "</style>\n",
       "<table border=\"1\" class=\"dataframe\">\n",
       "  <thead>\n",
       "    <tr style=\"text-align: right;\">\n",
       "      <th></th>\n",
       "      <th>adjusted</th>\n",
       "      <th>underlying</th>\n",
       "    </tr>\n",
       "  </thead>\n",
       "  <tbody>\n",
       "    <tr>\n",
       "      <th>1982-09-14</th>\n",
       "      <td>64.23</td>\n",
       "      <td>123.70</td>\n",
       "    </tr>\n",
       "    <tr>\n",
       "      <th>1982-09-15</th>\n",
       "      <td>64.49</td>\n",
       "      <td>124.20</td>\n",
       "    </tr>\n",
       "    <tr>\n",
       "      <th>1982-09-16</th>\n",
       "      <td>64.16</td>\n",
       "      <td>123.55</td>\n",
       "    </tr>\n",
       "    <tr>\n",
       "      <th>1982-09-17</th>\n",
       "      <td>63.69</td>\n",
       "      <td>122.65</td>\n",
       "    </tr>\n",
       "    <tr>\n",
       "      <th>1982-09-20</th>\n",
       "      <td>64.10</td>\n",
       "      <td>123.45</td>\n",
       "    </tr>\n",
       "    <tr>\n",
       "      <th>...</th>\n",
       "      <td>...</td>\n",
       "      <td>...</td>\n",
       "    </tr>\n",
       "    <tr>\n",
       "      <th>2022-12-22</th>\n",
       "      <td>3857.50</td>\n",
       "      <td>3847.50</td>\n",
       "    </tr>\n",
       "    <tr>\n",
       "      <th>2022-12-23</th>\n",
       "      <td>3826.25</td>\n",
       "      <td>3868.50</td>\n",
       "    </tr>\n",
       "    <tr>\n",
       "      <th>2022-12-27</th>\n",
       "      <td>3846.00</td>\n",
       "      <td>3856.25</td>\n",
       "    </tr>\n",
       "    <tr>\n",
       "      <th>2022-12-28</th>\n",
       "      <td>3862.00</td>\n",
       "      <td>3810.50</td>\n",
       "    </tr>\n",
       "    <tr>\n",
       "      <th>2022-12-29</th>\n",
       "      <td>3854.50</td>\n",
       "      <td>3869.25</td>\n",
       "    </tr>\n",
       "  </tbody>\n",
       "</table>\n",
       "<p>10436 rows × 2 columns</p>\n",
       "</div>"
      ],
      "text/plain": [
       "            adjusted  underlying\n",
       "1982-09-14     64.23      123.70\n",
       "1982-09-15     64.49      124.20\n",
       "1982-09-16     64.16      123.55\n",
       "1982-09-17     63.69      122.65\n",
       "1982-09-20     64.10      123.45\n",
       "...              ...         ...\n",
       "2022-12-22   3857.50     3847.50\n",
       "2022-12-23   3826.25     3868.50\n",
       "2022-12-27   3846.00     3856.25\n",
       "2022-12-28   3862.00     3810.50\n",
       "2022-12-29   3854.50     3869.25\n",
       "\n",
       "[10436 rows x 2 columns]"
      ]
     },
     "execution_count": 37,
     "metadata": {},
     "output_type": "execute_result"
    }
   ],
   "source": [
    "reader = Read_csv(filename='/home/mehedi/Document/carver_strategies/data/jumbo/SP500_micro.csv')\n",
    "data = reader.pd_readcsv()\n",
    "data"
   ]
  },
  {
   "cell_type": "code",
   "execution_count": 38,
   "metadata": {},
   "outputs": [],
   "source": [
    "data = data.dropna()\n",
    "\n",
    "adjusted_price = data.adjusted\n",
    "current_price = data.underlying\n",
    "multiplier = 5\n",
    "risk_target_tau= .2\n",
    "fx_series = pd.Series(1, index=data.index)  ## FX rate, 1 for USD / USD\n",
    "\n",
    "capital= 100000\n",
    "\n",
    "instrument_risk = calculate_standard_deviation_for_risk_targeting(adjusted_price=adjusted_price,\n",
    "                                                                    current_price=current_price)\n",
    "\n",
    "position_contracts_held = calculate_position_series_given_fixed_risk(capital=capital,\n",
    "                                                                        fx=fx_series,\n",
    "                                                                        instrument_risk_ann_perc=instrument_risk,\n",
    "                                                                        risk_target_tau=risk_target_tau,\n",
    "                                                                        multiplier=multiplier,\n",
    "                                                                        current_price=current_price)\n"
   ]
  },
  {
   "cell_type": "code",
   "execution_count": 39,
   "metadata": {},
   "outputs": [],
   "source": [
    "perc_return = calculate_perc_returns(\n",
    "        position_contracts_held=position_contracts_held,\n",
    "        adjusted_price = adjusted_price,\n",
    "        fx_series=fx_series,\n",
    "        capital_required=capital,\n",
    "        multiplier=multiplier\n",
    "    )"
   ]
  },
  {
   "cell_type": "code",
   "execution_count": 41,
   "metadata": {},
   "outputs": [
    {
     "data": {
      "text/plain": [
       "{'ann_mean': 0.08745210586670943,\n",
       " 'ann_std': 0.16186643736950834,\n",
       " 'sharpe_ratio': 0.5402732480426066,\n",
       " 'skew': -0.2998265423283159,\n",
       " 'avg_drawdown': 0.07193883664075865,\n",
       " 'max_drawdown': 0.7048049395414959,\n",
       " 'quant_ratio_lower': 2.377732862596227,\n",
       " 'quant_ratio_upper': 1.9862950330190956}"
      ]
     },
     "execution_count": 41,
     "metadata": {},
     "output_type": "execute_result"
    }
   ],
   "source": [
    "b= Stats(perc_return)\n",
    "b.stats()\n",
    "b.show_stats()"
   ]
  },
  {
   "cell_type": "code",
   "execution_count": 42,
   "metadata": {},
   "outputs": [
    {
     "data": {
      "text/plain": [
       "{'ann_mean': 0.08745210586670943,\n",
       " 'ann_std': 0.16186643736950834,\n",
       " 'sharpe_ratio': 0.5402732480426066,\n",
       " 'skew': -0.2998265423283159,\n",
       " 'avg_drawdown': 0.07193883664075865,\n",
       " 'max_drawdown': 0.7048049395414959,\n",
       " 'quant_ratio_lower': 2.377732862596227,\n",
       " 'quant_ratio_upper': 1.9862950330190956}"
      ]
     },
     "execution_count": 42,
     "metadata": {},
     "output_type": "execute_result"
    }
   ],
   "source": [
    "b= Stats(perc_return)\n",
    "b.stats()\n",
    "b.show_stats()"
   ]
  }
 ],
 "metadata": {
  "kernelspec": {
   "display_name": "almanac",
   "language": "python",
   "name": "python3"
  },
  "language_info": {
   "codemirror_mode": {
    "name": "ipython",
    "version": 3
   },
   "file_extension": ".py",
   "mimetype": "text/x-python",
   "name": "python",
   "nbconvert_exporter": "python",
   "pygments_lexer": "ipython3",
   "version": "3.9.17"
  },
  "orig_nbformat": 4
 },
 "nbformat": 4,
 "nbformat_minor": 2
}
