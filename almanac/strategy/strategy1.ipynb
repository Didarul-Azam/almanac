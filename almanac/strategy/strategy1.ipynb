{
 "cells": [
  {
   "cell_type": "code",
   "execution_count": 2,
   "metadata": {},
   "outputs": [],
   "source": [
    "from almanac.data.data import Read_csv\n"
   ]
  },
  {
   "cell_type": "code",
   "execution_count": 3,
   "metadata": {},
   "outputs": [],
   "source": [
    "from almanac.analysis.calculate_returns import calculate_perc_returns"
   ]
  },
  {
   "cell_type": "code",
   "execution_count": 9,
   "metadata": {},
   "outputs": [],
   "source": [
    "from almanac.utils.utils import *\n",
    "\n",
    "from almanac.analysis.calculate_stats import Stats"
   ]
  },
  {
   "cell_type": "code",
   "execution_count": 5,
   "metadata": {},
   "outputs": [],
   "source": [
    "reader = Read_csv(filename='/home/ornob/Documents/sp500.csv', )"
   ]
  },
  {
   "cell_type": "code",
   "execution_count": 6,
   "metadata": {},
   "outputs": [
    {
     "data": {
      "text/html": [
       "<div>\n",
       "<style scoped>\n",
       "    .dataframe tbody tr th:only-of-type {\n",
       "        vertical-align: middle;\n",
       "    }\n",
       "\n",
       "    .dataframe tbody tr th {\n",
       "        vertical-align: top;\n",
       "    }\n",
       "\n",
       "    .dataframe thead th {\n",
       "        text-align: right;\n",
       "    }\n",
       "</style>\n",
       "<table border=\"1\" class=\"dataframe\">\n",
       "  <thead>\n",
       "    <tr style=\"text-align: right;\">\n",
       "      <th></th>\n",
       "      <th>adjusted</th>\n",
       "      <th>underlying</th>\n",
       "    </tr>\n",
       "  </thead>\n",
       "  <tbody>\n",
       "    <tr>\n",
       "      <th>1982-09-14</th>\n",
       "      <td>405.40</td>\n",
       "      <td>123.70</td>\n",
       "    </tr>\n",
       "    <tr>\n",
       "      <th>1982-09-15</th>\n",
       "      <td>405.90</td>\n",
       "      <td>124.20</td>\n",
       "    </tr>\n",
       "    <tr>\n",
       "      <th>1982-09-16</th>\n",
       "      <td>405.25</td>\n",
       "      <td>123.55</td>\n",
       "    </tr>\n",
       "    <tr>\n",
       "      <th>1982-09-17</th>\n",
       "      <td>404.35</td>\n",
       "      <td>122.65</td>\n",
       "    </tr>\n",
       "    <tr>\n",
       "      <th>1982-09-20</th>\n",
       "      <td>405.15</td>\n",
       "      <td>123.45</td>\n",
       "    </tr>\n",
       "    <tr>\n",
       "      <th>...</th>\n",
       "      <td>...</td>\n",
       "      <td>...</td>\n",
       "    </tr>\n",
       "    <tr>\n",
       "      <th>2022-09-26</th>\n",
       "      <td>3667.25</td>\n",
       "      <td>3667.25</td>\n",
       "    </tr>\n",
       "    <tr>\n",
       "      <th>2022-09-27</th>\n",
       "      <td>3665.25</td>\n",
       "      <td>3665.25</td>\n",
       "    </tr>\n",
       "    <tr>\n",
       "      <th>2022-09-28</th>\n",
       "      <td>3729.75</td>\n",
       "      <td>3729.75</td>\n",
       "    </tr>\n",
       "    <tr>\n",
       "      <th>2022-09-29</th>\n",
       "      <td>3658.75</td>\n",
       "      <td>3658.75</td>\n",
       "    </tr>\n",
       "    <tr>\n",
       "      <th>2022-09-30</th>\n",
       "      <td>3641.50</td>\n",
       "      <td>3641.50</td>\n",
       "    </tr>\n",
       "  </tbody>\n",
       "</table>\n",
       "<p>10188 rows × 2 columns</p>\n",
       "</div>"
      ],
      "text/plain": [
       "            adjusted  underlying\n",
       "1982-09-14    405.40      123.70\n",
       "1982-09-15    405.90      124.20\n",
       "1982-09-16    405.25      123.55\n",
       "1982-09-17    404.35      122.65\n",
       "1982-09-20    405.15      123.45\n",
       "...              ...         ...\n",
       "2022-09-26   3667.25     3667.25\n",
       "2022-09-27   3665.25     3665.25\n",
       "2022-09-28   3729.75     3729.75\n",
       "2022-09-29   3658.75     3658.75\n",
       "2022-09-30   3641.50     3641.50\n",
       "\n",
       "[10188 rows x 2 columns]"
      ]
     },
     "execution_count": 6,
     "metadata": {},
     "output_type": "execute_result"
    }
   ],
   "source": [
    "data = reader.pd_readcsv()\n",
    "data"
   ]
  },
  {
   "cell_type": "code",
   "execution_count": 7,
   "metadata": {},
   "outputs": [],
   "source": [
    "adjusted_price = data.adjusted\n",
    "current_price = data.underlying\n",
    "multiplier = 5\n",
    "fx_series = pd.Series(1, index=data.index)  \n",
    "position_contracts_held = pd.Series(1, index=data.index)  \n",
    "\n",
    "capital_required = multiplier * current_price \n"
   ]
  },
  {
   "cell_type": "code",
   "execution_count": 8,
   "metadata": {},
   "outputs": [],
   "source": [
    "perc_return = calculate_perc_returns(\n",
    "    position_contracts_held=position_contracts_held,\n",
    "    adjusted_price = adjusted_price,\n",
    "    fx_series=fx_series,\n",
    "    capital_required=capital_required,\n",
    "    multiplier=multiplier\n",
    ")\n",
    "\n"
   ]
  },
  {
   "cell_type": "code",
   "execution_count": 25,
   "metadata": {},
   "outputs": [],
   "source": [
    "a = Stats(perc_return)"
   ]
  },
  {
   "cell_type": "code",
   "execution_count": 22,
   "metadata": {},
   "outputs": [],
   "source": [
    "a.stats()"
   ]
  },
  {
   "cell_type": "code",
   "execution_count": 14,
   "metadata": {},
   "outputs": [
    {
     "data": {
      "text/plain": [
       "0.2567531397519812"
      ]
     },
     "execution_count": 14,
     "metadata": {},
     "output_type": "execute_result"
    }
   ],
   "source": [
    "stats.sharpe"
   ]
  },
  {
   "cell_type": "code",
   "execution_count": 23,
   "metadata": {},
   "outputs": [
    {
     "ename": "TypeError",
     "evalue": "'Series' object is not callable",
     "output_type": "error",
     "traceback": [
      "\u001b[0;31m---------------------------------------------------------------------------\u001b[0m",
      "\u001b[0;31mTypeError\u001b[0m                                 Traceback (most recent call last)",
      "\u001b[1;32m/home/ornob/Documents/codespace/almanac/almanac/strategy/strategy1.ipynb Cell 11\u001b[0m line \u001b[0;36m1\n\u001b[0;32m----> <a href='vscode-notebook-cell:/home/ornob/Documents/codespace/almanac/almanac/strategy/strategy1.ipynb#X13sZmlsZQ%3D%3D?line=0'>1</a>\u001b[0m a\u001b[39m.\u001b[39;49mstats(show\u001b[39m=\u001b[39;49m\u001b[39mTrue\u001b[39;49;00m)\n",
      "File \u001b[0;32m~/miniconda3/envs/almanac/lib/python3.10/site-packages/almanac-0.0.0-py3.10.egg/almanac/analysis/calculate_stats.py:88\u001b[0m, in \u001b[0;36mStats.stats\u001b[0;34m(self, show)\u001b[0m\n\u001b[1;32m     87\u001b[0m \u001b[39mdef\u001b[39;00m \u001b[39mstats\u001b[39m(\u001b[39mself\u001b[39m,show\u001b[39m=\u001b[39m\u001b[39mFalse\u001b[39;00m):\n\u001b[0;32m---> 88\u001b[0m     \u001b[39mself\u001b[39;49m\u001b[39m.\u001b[39;49mperc_return_at_freq()\n\u001b[1;32m     89\u001b[0m     \u001b[39mself\u001b[39m\u001b[39m.\u001b[39mann_mean()\n\u001b[1;32m     90\u001b[0m     \u001b[39mself\u001b[39m\u001b[39m.\u001b[39mann_std()\n",
      "\u001b[0;31mTypeError\u001b[0m: 'Series' object is not callable"
     ]
    }
   ],
   "source": [
    "a.stats(show=True)"
   ]
  },
  {
   "cell_type": "code",
   "execution_count": 26,
   "metadata": {},
   "outputs": [
    {
     "data": {
      "text/plain": [
       "{'ann_mean': 0.05090927903394909,\n",
       " 'ann_std': 0.19688421110728013,\n",
       " 'sharpe_ratio': <bound method Stats.sharpe_ratio of <almanac.analysis.calculate_stats.Stats object at 0x7f1d78909ed0>>,\n",
       " 'skew': -3.6436202034435747,\n",
       " 'avg_drawdown': 0.23304463812166343,\n",
       " 'max_drawdown': 1.2141040208288036,\n",
       " 'quant_ratio_lower': 2.2302136448277934,\n",
       " 'quant_ratio_upper': 1.6017921571611629}"
      ]
     },
     "execution_count": 26,
     "metadata": {},
     "output_type": "execute_result"
    }
   ],
   "source": [
    "a.show_stats()"
   ]
  },
  {
   "cell_type": "code",
   "execution_count": null,
   "metadata": {},
   "outputs": [],
   "source": []
  }
 ],
 "metadata": {
  "kernelspec": {
   "display_name": "almanac",
   "language": "python",
   "name": "python3"
  },
  "language_info": {
   "codemirror_mode": {
    "name": "ipython",
    "version": 3
   },
   "file_extension": ".py",
   "mimetype": "text/x-python",
   "name": "python",
   "nbconvert_exporter": "python",
   "pygments_lexer": "ipython3",
   "version": "3.10.13"
  },
  "orig_nbformat": 4
 },
 "nbformat": 4,
 "nbformat_minor": 2
}
