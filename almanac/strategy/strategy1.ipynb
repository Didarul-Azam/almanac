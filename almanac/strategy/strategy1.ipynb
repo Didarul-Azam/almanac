{
 "cells": [
  {
   "cell_type": "code",
   "execution_count": 9,
   "metadata": {},
   "outputs": [],
   "source": [
    "from almanac.data.data import Read_csv"
   ]
  },
  {
   "cell_type": "code",
   "execution_count": 10,
   "metadata": {},
   "outputs": [],
   "source": [
    "from almanac.analysis.calculate_returns import calculate_perc_returns"
   ]
  },
  {
   "cell_type": "code",
   "execution_count": 12,
   "metadata": {},
   "outputs": [],
   "source": [
    "from almanac.utils.utils import *\n"
   ]
  },
  {
   "cell_type": "code",
   "execution_count": 13,
   "metadata": {},
   "outputs": [],
   "source": [
    "from almanac.analysis.calculate_stats import Stats"
   ]
  },
  {
   "cell_type": "code",
   "execution_count": 14,
   "metadata": {},
   "outputs": [],
   "source": [
    "reader = Read_csv(filename='/home/mehedi/Document/carver_strategies/data/jumbo/SP500_micro.csv')"
   ]
  },
  {
   "cell_type": "code",
   "execution_count": 15,
   "metadata": {},
   "outputs": [
    {
     "ename": "FileNotFoundError",
     "evalue": "[Errno 2] No such file or directory: '/home/mehedi/Document/carver_strategies/data/jumbo/SP500_micro.csv'",
     "output_type": "error",
     "traceback": [
      "\u001b[0;31m---------------------------------------------------------------------------\u001b[0m",
      "\u001b[0;31mFileNotFoundError\u001b[0m                         Traceback (most recent call last)",
      "\u001b[1;32m/home/ornob/Documents/codespace/almanac/almanac/strategy/strategy1.ipynb Cell 6\u001b[0m line \u001b[0;36m1\n\u001b[0;32m----> <a href='vscode-notebook-cell:/home/ornob/Documents/codespace/almanac/almanac/strategy/strategy1.ipynb#X32sZmlsZQ%3D%3D?line=0'>1</a>\u001b[0m data \u001b[39m=\u001b[39m reader\u001b[39m.\u001b[39;49mpd_readcsv()\n\u001b[1;32m      <a href='vscode-notebook-cell:/home/ornob/Documents/codespace/almanac/almanac/strategy/strategy1.ipynb#X32sZmlsZQ%3D%3D?line=1'>2</a>\u001b[0m data\n",
      "File \u001b[0;32m~/miniconda3/envs/almanac/lib/python3.10/site-packages/almanac-0.0.0-py3.10.egg/almanac/data/data.py:11\u001b[0m, in \u001b[0;36mpd_readcsv\u001b[0;34m(self)\u001b[0m\n",
      "File \u001b[0;32m~/miniconda3/envs/almanac/lib/python3.10/site-packages/pandas/io/parsers/readers.py:948\u001b[0m, in \u001b[0;36mread_csv\u001b[0;34m(filepath_or_buffer, sep, delimiter, header, names, index_col, usecols, dtype, engine, converters, true_values, false_values, skipinitialspace, skiprows, skipfooter, nrows, na_values, keep_default_na, na_filter, verbose, skip_blank_lines, parse_dates, infer_datetime_format, keep_date_col, date_parser, date_format, dayfirst, cache_dates, iterator, chunksize, compression, thousands, decimal, lineterminator, quotechar, quoting, doublequote, escapechar, comment, encoding, encoding_errors, dialect, on_bad_lines, delim_whitespace, low_memory, memory_map, float_precision, storage_options, dtype_backend)\u001b[0m\n\u001b[1;32m    935\u001b[0m kwds_defaults \u001b[39m=\u001b[39m _refine_defaults_read(\n\u001b[1;32m    936\u001b[0m     dialect,\n\u001b[1;32m    937\u001b[0m     delimiter,\n\u001b[0;32m   (...)\u001b[0m\n\u001b[1;32m    944\u001b[0m     dtype_backend\u001b[39m=\u001b[39mdtype_backend,\n\u001b[1;32m    945\u001b[0m )\n\u001b[1;32m    946\u001b[0m kwds\u001b[39m.\u001b[39mupdate(kwds_defaults)\n\u001b[0;32m--> 948\u001b[0m \u001b[39mreturn\u001b[39;00m _read(filepath_or_buffer, kwds)\n",
      "File \u001b[0;32m~/miniconda3/envs/almanac/lib/python3.10/site-packages/pandas/io/parsers/readers.py:611\u001b[0m, in \u001b[0;36m_read\u001b[0;34m(filepath_or_buffer, kwds)\u001b[0m\n\u001b[1;32m    608\u001b[0m _validate_names(kwds\u001b[39m.\u001b[39mget(\u001b[39m\"\u001b[39m\u001b[39mnames\u001b[39m\u001b[39m\"\u001b[39m, \u001b[39mNone\u001b[39;00m))\n\u001b[1;32m    610\u001b[0m \u001b[39m# Create the parser.\u001b[39;00m\n\u001b[0;32m--> 611\u001b[0m parser \u001b[39m=\u001b[39m TextFileReader(filepath_or_buffer, \u001b[39m*\u001b[39;49m\u001b[39m*\u001b[39;49mkwds)\n\u001b[1;32m    613\u001b[0m \u001b[39mif\u001b[39;00m chunksize \u001b[39mor\u001b[39;00m iterator:\n\u001b[1;32m    614\u001b[0m     \u001b[39mreturn\u001b[39;00m parser\n",
      "File \u001b[0;32m~/miniconda3/envs/almanac/lib/python3.10/site-packages/pandas/io/parsers/readers.py:1448\u001b[0m, in \u001b[0;36mTextFileReader.__init__\u001b[0;34m(self, f, engine, **kwds)\u001b[0m\n\u001b[1;32m   1445\u001b[0m     \u001b[39mself\u001b[39m\u001b[39m.\u001b[39moptions[\u001b[39m\"\u001b[39m\u001b[39mhas_index_names\u001b[39m\u001b[39m\"\u001b[39m] \u001b[39m=\u001b[39m kwds[\u001b[39m\"\u001b[39m\u001b[39mhas_index_names\u001b[39m\u001b[39m\"\u001b[39m]\n\u001b[1;32m   1447\u001b[0m \u001b[39mself\u001b[39m\u001b[39m.\u001b[39mhandles: IOHandles \u001b[39m|\u001b[39m \u001b[39mNone\u001b[39;00m \u001b[39m=\u001b[39m \u001b[39mNone\u001b[39;00m\n\u001b[0;32m-> 1448\u001b[0m \u001b[39mself\u001b[39m\u001b[39m.\u001b[39m_engine \u001b[39m=\u001b[39m \u001b[39mself\u001b[39;49m\u001b[39m.\u001b[39;49m_make_engine(f, \u001b[39mself\u001b[39;49m\u001b[39m.\u001b[39;49mengine)\n",
      "File \u001b[0;32m~/miniconda3/envs/almanac/lib/python3.10/site-packages/pandas/io/parsers/readers.py:1705\u001b[0m, in \u001b[0;36mTextFileReader._make_engine\u001b[0;34m(self, f, engine)\u001b[0m\n\u001b[1;32m   1703\u001b[0m     \u001b[39mif\u001b[39;00m \u001b[39m\"\u001b[39m\u001b[39mb\u001b[39m\u001b[39m\"\u001b[39m \u001b[39mnot\u001b[39;00m \u001b[39min\u001b[39;00m mode:\n\u001b[1;32m   1704\u001b[0m         mode \u001b[39m+\u001b[39m\u001b[39m=\u001b[39m \u001b[39m\"\u001b[39m\u001b[39mb\u001b[39m\u001b[39m\"\u001b[39m\n\u001b[0;32m-> 1705\u001b[0m \u001b[39mself\u001b[39m\u001b[39m.\u001b[39mhandles \u001b[39m=\u001b[39m get_handle(\n\u001b[1;32m   1706\u001b[0m     f,\n\u001b[1;32m   1707\u001b[0m     mode,\n\u001b[1;32m   1708\u001b[0m     encoding\u001b[39m=\u001b[39;49m\u001b[39mself\u001b[39;49m\u001b[39m.\u001b[39;49moptions\u001b[39m.\u001b[39;49mget(\u001b[39m\"\u001b[39;49m\u001b[39mencoding\u001b[39;49m\u001b[39m\"\u001b[39;49m, \u001b[39mNone\u001b[39;49;00m),\n\u001b[1;32m   1709\u001b[0m     compression\u001b[39m=\u001b[39;49m\u001b[39mself\u001b[39;49m\u001b[39m.\u001b[39;49moptions\u001b[39m.\u001b[39;49mget(\u001b[39m\"\u001b[39;49m\u001b[39mcompression\u001b[39;49m\u001b[39m\"\u001b[39;49m, \u001b[39mNone\u001b[39;49;00m),\n\u001b[1;32m   1710\u001b[0m     memory_map\u001b[39m=\u001b[39;49m\u001b[39mself\u001b[39;49m\u001b[39m.\u001b[39;49moptions\u001b[39m.\u001b[39;49mget(\u001b[39m\"\u001b[39;49m\u001b[39mmemory_map\u001b[39;49m\u001b[39m\"\u001b[39;49m, \u001b[39mFalse\u001b[39;49;00m),\n\u001b[1;32m   1711\u001b[0m     is_text\u001b[39m=\u001b[39;49mis_text,\n\u001b[1;32m   1712\u001b[0m     errors\u001b[39m=\u001b[39;49m\u001b[39mself\u001b[39;49m\u001b[39m.\u001b[39;49moptions\u001b[39m.\u001b[39;49mget(\u001b[39m\"\u001b[39;49m\u001b[39mencoding_errors\u001b[39;49m\u001b[39m\"\u001b[39;49m, \u001b[39m\"\u001b[39;49m\u001b[39mstrict\u001b[39;49m\u001b[39m\"\u001b[39;49m),\n\u001b[1;32m   1713\u001b[0m     storage_options\u001b[39m=\u001b[39;49m\u001b[39mself\u001b[39;49m\u001b[39m.\u001b[39;49moptions\u001b[39m.\u001b[39;49mget(\u001b[39m\"\u001b[39;49m\u001b[39mstorage_options\u001b[39;49m\u001b[39m\"\u001b[39;49m, \u001b[39mNone\u001b[39;49;00m),\n\u001b[1;32m   1714\u001b[0m )\n\u001b[1;32m   1715\u001b[0m \u001b[39massert\u001b[39;00m \u001b[39mself\u001b[39m\u001b[39m.\u001b[39mhandles \u001b[39mis\u001b[39;00m \u001b[39mnot\u001b[39;00m \u001b[39mNone\u001b[39;00m\n\u001b[1;32m   1716\u001b[0m f \u001b[39m=\u001b[39m \u001b[39mself\u001b[39m\u001b[39m.\u001b[39mhandles\u001b[39m.\u001b[39mhandle\n",
      "File \u001b[0;32m~/miniconda3/envs/almanac/lib/python3.10/site-packages/pandas/io/common.py:863\u001b[0m, in \u001b[0;36mget_handle\u001b[0;34m(path_or_buf, mode, encoding, compression, memory_map, is_text, errors, storage_options)\u001b[0m\n\u001b[1;32m    858\u001b[0m \u001b[39melif\u001b[39;00m \u001b[39misinstance\u001b[39m(handle, \u001b[39mstr\u001b[39m):\n\u001b[1;32m    859\u001b[0m     \u001b[39m# Check whether the filename is to be opened in binary mode.\u001b[39;00m\n\u001b[1;32m    860\u001b[0m     \u001b[39m# Binary mode does not support 'encoding' and 'newline'.\u001b[39;00m\n\u001b[1;32m    861\u001b[0m     \u001b[39mif\u001b[39;00m ioargs\u001b[39m.\u001b[39mencoding \u001b[39mand\u001b[39;00m \u001b[39m\"\u001b[39m\u001b[39mb\u001b[39m\u001b[39m\"\u001b[39m \u001b[39mnot\u001b[39;00m \u001b[39min\u001b[39;00m ioargs\u001b[39m.\u001b[39mmode:\n\u001b[1;32m    862\u001b[0m         \u001b[39m# Encoding\u001b[39;00m\n\u001b[0;32m--> 863\u001b[0m         handle \u001b[39m=\u001b[39m \u001b[39mopen\u001b[39;49m(\n\u001b[1;32m    864\u001b[0m             handle,\n\u001b[1;32m    865\u001b[0m             ioargs\u001b[39m.\u001b[39;49mmode,\n\u001b[1;32m    866\u001b[0m             encoding\u001b[39m=\u001b[39;49mioargs\u001b[39m.\u001b[39;49mencoding,\n\u001b[1;32m    867\u001b[0m             errors\u001b[39m=\u001b[39;49merrors,\n\u001b[1;32m    868\u001b[0m             newline\u001b[39m=\u001b[39;49m\u001b[39m\"\u001b[39;49m\u001b[39m\"\u001b[39;49m,\n\u001b[1;32m    869\u001b[0m         )\n\u001b[1;32m    870\u001b[0m     \u001b[39melse\u001b[39;00m:\n\u001b[1;32m    871\u001b[0m         \u001b[39m# Binary mode\u001b[39;00m\n\u001b[1;32m    872\u001b[0m         handle \u001b[39m=\u001b[39m \u001b[39mopen\u001b[39m(handle, ioargs\u001b[39m.\u001b[39mmode)\n",
      "\u001b[0;31mFileNotFoundError\u001b[0m: [Errno 2] No such file or directory: '/home/mehedi/Document/carver_strategies/data/jumbo/SP500_micro.csv'"
     ]
    }
   ],
   "source": [
    "data = reader.pd_readcsv()\n",
    "data"
   ]
  },
  {
   "cell_type": "code",
   "execution_count": 30,
   "metadata": {},
   "outputs": [],
   "source": [
    "adjusted_price = data.adjusted\n",
    "current_price = data.underlying\n",
    "multiplier = 5\n",
    "fx_series = pd.Series(1, index=data.index)  \n",
    "position_contracts_held = pd.Series(1, index=data.index)  \n",
    "\n",
    "capital_required = multiplier * current_price \n"
   ]
  },
  {
   "cell_type": "code",
   "execution_count": 31,
   "metadata": {},
   "outputs": [],
   "source": [
    "perc_return = calculate_perc_returns(\n",
    "    position_contracts_held=position_contracts_held,\n",
    "    adjusted_price = adjusted_price,\n",
    "    fx_series=fx_series,\n",
    "    capital_required=capital_required,\n",
    "    multiplier=multiplier\n",
    ")\n",
    "\n"
   ]
  },
  {
   "cell_type": "code",
   "execution_count": 32,
   "metadata": {},
   "outputs": [],
   "source": [
    "a = Stats(perc_return)"
   ]
  },
  {
   "cell_type": "code",
   "execution_count": 33,
   "metadata": {},
   "outputs": [],
   "source": [
    "a.stats()"
   ]
  },
  {
   "cell_type": "code",
   "execution_count": 34,
   "metadata": {},
   "outputs": [
    {
     "data": {
      "text/plain": [
       "{'ann_mean': 0.06585196239485189,\n",
       " 'ann_std': 0.1809385539163615,\n",
       " 'sharpe_ratio': 0.3639465496407793,\n",
       " 'skew': -1.3573059970080554,\n",
       " 'avg_drawdown': 0.13717618986430086,\n",
       " 'max_drawdown': 1.0092391466728226,\n",
       " 'quant_ratio_lower': 2.50673620513012,\n",
       " 'quant_ratio_upper': 1.8784002761075556}"
      ]
     },
     "execution_count": 34,
     "metadata": {},
     "output_type": "execute_result"
    }
   ],
   "source": [
    "a.stats(show=True)"
   ]
  },
  {
   "cell_type": "code",
   "execution_count": 35,
   "metadata": {},
   "outputs": [
    {
     "data": {
      "text/plain": [
       "{'ann_mean': 0.06585196239485189,\n",
       " 'ann_std': 0.1809385539163615,\n",
       " 'sharpe_ratio': 0.3639465496407793,\n",
       " 'skew': -1.3573059970080554,\n",
       " 'avg_drawdown': 0.13717618986430086,\n",
       " 'max_drawdown': 1.0092391466728226,\n",
       " 'quant_ratio_lower': 2.50673620513012,\n",
       " 'quant_ratio_upper': 1.8784002761075556}"
      ]
     },
     "execution_count": 35,
     "metadata": {},
     "output_type": "execute_result"
    }
   ],
   "source": [
    "a.show_stats()"
   ]
  },
  {
   "cell_type": "markdown",
   "metadata": {},
   "source": [
    "### Strategy 2"
   ]
  },
  {
   "cell_type": "code",
   "execution_count": 36,
   "metadata": {},
   "outputs": [],
   "source": [
    "import pandas as pd\n",
    "from almanac.data.data import Read_csv\n",
    "from almanac.analysis.calculate_returns import calculate_perc_returns\n",
    "from almanac.utils.utils import *\n",
    "from almanac.analysis.calculate_stats import Stats\n",
    "from almanac.analysis.position_sereies_fixed_risk import calculate_position_series_given_fixed_risk\n",
    "from almanac.analysis.std_for_risk import calculate_standard_deviation_for_risk_targeting"
   ]
  },
  {
   "cell_type": "code",
   "execution_count": 37,
   "metadata": {},
   "outputs": [
    {
     "data": {
      "text/html": [
       "<div>\n",
       "<style scoped>\n",
       "    .dataframe tbody tr th:only-of-type {\n",
       "        vertical-align: middle;\n",
       "    }\n",
       "\n",
       "    .dataframe tbody tr th {\n",
       "        vertical-align: top;\n",
       "    }\n",
       "\n",
       "    .dataframe thead th {\n",
       "        text-align: right;\n",
       "    }\n",
       "</style>\n",
       "<table border=\"1\" class=\"dataframe\">\n",
       "  <thead>\n",
       "    <tr style=\"text-align: right;\">\n",
       "      <th></th>\n",
       "      <th>adjusted</th>\n",
       "      <th>underlying</th>\n",
       "    </tr>\n",
       "  </thead>\n",
       "  <tbody>\n",
       "    <tr>\n",
       "      <th>1982-09-14</th>\n",
       "      <td>64.23</td>\n",
       "      <td>123.70</td>\n",
       "    </tr>\n",
       "    <tr>\n",
       "      <th>1982-09-15</th>\n",
       "      <td>64.49</td>\n",
       "      <td>124.20</td>\n",
       "    </tr>\n",
       "    <tr>\n",
       "      <th>1982-09-16</th>\n",
       "      <td>64.16</td>\n",
       "      <td>123.55</td>\n",
       "    </tr>\n",
       "    <tr>\n",
       "      <th>1982-09-17</th>\n",
       "      <td>63.69</td>\n",
       "      <td>122.65</td>\n",
       "    </tr>\n",
       "    <tr>\n",
       "      <th>1982-09-20</th>\n",
       "      <td>64.10</td>\n",
       "      <td>123.45</td>\n",
       "    </tr>\n",
       "    <tr>\n",
       "      <th>...</th>\n",
       "      <td>...</td>\n",
       "      <td>...</td>\n",
       "    </tr>\n",
       "    <tr>\n",
       "      <th>2022-12-22</th>\n",
       "      <td>3857.50</td>\n",
       "      <td>3847.50</td>\n",
       "    </tr>\n",
       "    <tr>\n",
       "      <th>2022-12-23</th>\n",
       "      <td>3826.25</td>\n",
       "      <td>3868.50</td>\n",
       "    </tr>\n",
       "    <tr>\n",
       "      <th>2022-12-27</th>\n",
       "      <td>3846.00</td>\n",
       "      <td>3856.25</td>\n",
       "    </tr>\n",
       "    <tr>\n",
       "      <th>2022-12-28</th>\n",
       "      <td>3862.00</td>\n",
       "      <td>3810.50</td>\n",
       "    </tr>\n",
       "    <tr>\n",
       "      <th>2022-12-29</th>\n",
       "      <td>3854.50</td>\n",
       "      <td>3869.25</td>\n",
       "    </tr>\n",
       "  </tbody>\n",
       "</table>\n",
       "<p>10436 rows × 2 columns</p>\n",
       "</div>"
      ],
      "text/plain": [
       "            adjusted  underlying\n",
       "1982-09-14     64.23      123.70\n",
       "1982-09-15     64.49      124.20\n",
       "1982-09-16     64.16      123.55\n",
       "1982-09-17     63.69      122.65\n",
       "1982-09-20     64.10      123.45\n",
       "...              ...         ...\n",
       "2022-12-22   3857.50     3847.50\n",
       "2022-12-23   3826.25     3868.50\n",
       "2022-12-27   3846.00     3856.25\n",
       "2022-12-28   3862.00     3810.50\n",
       "2022-12-29   3854.50     3869.25\n",
       "\n",
       "[10436 rows x 2 columns]"
      ]
     },
     "execution_count": 37,
     "metadata": {},
     "output_type": "execute_result"
    }
   ],
   "source": [
    "reader = Read_csv(filename='/home/mehedi/Document/carver_strategies/data/jumbo/SP500_micro.csv')\n",
    "data = reader.pd_readcsv()\n",
    "data"
   ]
  },
  {
   "cell_type": "code",
   "execution_count": 38,
   "metadata": {},
   "outputs": [],
   "source": [
    "data = data.dropna()\n",
    "\n",
    "adjusted_price = data.adjusted\n",
    "current_price = data.underlying\n",
    "multiplier = 5\n",
    "risk_target_tau= .2\n",
    "fx_series = pd.Series(1, index=data.index)  ## FX rate, 1 for USD / USD\n",
    "\n",
    "capital= 100000\n",
    "\n",
    "instrument_risk = calculate_standard_deviation_for_risk_targeting(adjusted_price=adjusted_price,\n",
    "                                                                    current_price=current_price)\n",
    "\n",
    "position_contracts_held = calculate_position_series_given_fixed_risk(capital=capital,\n",
    "                                                                        fx=fx_series,\n",
    "                                                                        instrument_risk_ann_perc=instrument_risk,\n",
    "                                                                        risk_target_tau=risk_target_tau,\n",
    "                                                                        multiplier=multiplier,\n",
    "                                                                        current_price=current_price)\n"
   ]
  },
  {
   "cell_type": "code",
   "execution_count": 39,
   "metadata": {},
   "outputs": [],
   "source": [
    "perc_return = calculate_perc_returns(\n",
    "        position_contracts_held=position_contracts_held,\n",
    "        adjusted_price = adjusted_price,\n",
    "        fx_series=fx_series,\n",
    "        capital_required=capital,\n",
    "        multiplier=multiplier\n",
    "    )"
   ]
  },
  {
   "cell_type": "code",
   "execution_count": 41,
   "metadata": {},
   "outputs": [
    {
     "data": {
      "text/plain": [
       "{'ann_mean': 0.08745210586670943,\n",
       " 'ann_std': 0.16186643736950834,\n",
       " 'sharpe_ratio': 0.5402732480426066,\n",
       " 'skew': -0.2998265423283159,\n",
       " 'avg_drawdown': 0.07193883664075865,\n",
       " 'max_drawdown': 0.7048049395414959,\n",
       " 'quant_ratio_lower': 2.377732862596227,\n",
       " 'quant_ratio_upper': 1.9862950330190956}"
      ]
     },
     "execution_count": 41,
     "metadata": {},
     "output_type": "execute_result"
    }
   ],
   "source": [
    "b= Stats(perc_return)\n",
    "b.stats()\n",
    "b.show_stats()"
   ]
  },
  {
   "cell_type": "code",
   "execution_count": 42,
   "metadata": {},
   "outputs": [
    {
     "data": {
      "text/plain": [
       "{'ann_mean': 0.08745210586670943,\n",
       " 'ann_std': 0.16186643736950834,\n",
       " 'sharpe_ratio': 0.5402732480426066,\n",
       " 'skew': -0.2998265423283159,\n",
       " 'avg_drawdown': 0.07193883664075865,\n",
       " 'max_drawdown': 0.7048049395414959,\n",
       " 'quant_ratio_lower': 2.377732862596227,\n",
       " 'quant_ratio_upper': 1.9862950330190956}"
      ]
     },
     "execution_count": 42,
     "metadata": {},
     "output_type": "execute_result"
    }
   ],
   "source": [
    "b= Stats(perc_return)\n",
    "b.stats()\n",
    "b.show_stats()"
   ]
  },
  {
   "cell_type": "code",
   "execution_count": 1,
   "metadata": {},
   "outputs": [],
   "source": [
    "from almanac.strategy.strategy2 import Strategy2"
   ]
  },
  {
   "cell_type": "code",
   "execution_count": 2,
   "metadata": {},
   "outputs": [],
   "source": [
    "strat = Strategy2(data_path='../sample_data/jumbo/SP500_micro.csv',\n",
    "                  multiplier=5, risk_target=0.2, capital=100000)"
   ]
  },
  {
   "cell_type": "code",
   "execution_count": 3,
   "metadata": {},
   "outputs": [
    {
     "name": "stdout",
     "output_type": "stream",
     "text": [
      "{'ann_mean': 0.08544173139093553, 'ann_std': 0.15870780623951197, 'sharpe_ratio': 0.5383587198098635, 'skew': -0.2995082377111567, 'avg_drawdown': 0.07058802287737675, 'max_drawdown': 0.6951548244229844, 'quant_ratio_lower': 2.3769079034556837, 'quant_ratio_upper': 1.9860994755878483}\n"
     ]
    }
   ],
   "source": [
    "strat.show_stats()"
   ]
  },
  {
   "cell_type": "code",
   "execution_count": 1,
   "metadata": {},
   "outputs": [],
   "source": [
    "from almanac.strategy.strategy3 import Strategy3"
   ]
  },
  {
   "cell_type": "code",
   "execution_count": 2,
   "metadata": {},
   "outputs": [
    {
     "name": "stdout",
     "output_type": "stream",
     "text": [
      "{'ann_mean': 0.14072094396481385, 'ann_std': 0.2071979319030471, 'sharpe_ratio': 0.6791619137910149, 'skew': -1.063533369284099, 'avg_drawdown': 0.12345995671603041, 'max_drawdown': 0.79187066846149, 'quant_ratio_lower': 1.5510375015549787, 'quant_ratio_upper': 1.2527815846880883}\n"
     ]
    }
   ],
   "source": [
    "strat = Strategy3(data_path='../sample_data/jumbo/SP500_micro.csv',\n",
    "                  multiplier=5, risk_target=0.2, capital=100000)\n",
    "strat.show_stats()"
   ]
  },
  {
   "cell_type": "code",
   "execution_count": null,
   "metadata": {},
   "outputs": [],
   "source": []
  }
 ],
 "metadata": {
  "kernelspec": {
   "display_name": "almanac",
   "language": "python",
   "name": "python3"
  },
  "language_info": {
   "codemirror_mode": {
    "name": "ipython",
    "version": 3
   },
   "file_extension": ".py",
   "mimetype": "text/x-python",
   "name": "python",
   "nbconvert_exporter": "python",
   "pygments_lexer": "ipython3",
   "version": "3.9.17"
  },
  "orig_nbformat": 4
 },
 "nbformat": 4,
 "nbformat_minor": 2
}
