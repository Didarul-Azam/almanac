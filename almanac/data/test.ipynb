{
 "cells": [
  {
   "cell_type": "code",
   "execution_count": 1,
   "metadata": {},
   "outputs": [],
   "source": [
    "import pandas as pd\n",
    "\n",
    "class Read_csv:\n",
    "  \n",
    "    def __init__(self, date_format=\"%Y-%m-%d\", date_index_name=\"index\"):\n",
    "        self.date_format = date_format\n",
    "        self.date_index_name = date_index_name\n",
    "        self.all_data = {}\n",
    "\n",
    "    def pd_readcsv(self, filename) -> pd.DataFrame:\n",
    "        ans = pd.read_csv(filename)\n",
    "        ans.index = pd.to_datetime(ans[self.date_index_name], format=self.date_format).values\n",
    "\n",
    "        del ans[self.date_index_name]\n",
    "\n",
    "        ans.index.name = None\n",
    "\n",
    "        return ans\n",
    "\n",
    "    def get_data_dict(self, instrument_list): \n",
    "        for instrument_code in instrument_list:\n",
    "            data_for_instrument = self.pd_readcsv(\"%s.csv\" % instrument_code)\n",
    "            self.all_data[instrument_code] = data_for_instrument\n",
    "\n",
    "        adjusted_prices = {instrument_code: data_for_instrument['adjusted'] for instrument_code, data_for_instrument in self.all_data.items()}\n",
    "        current_prices = {instrument_code: data_for_instrument['underlying'] for instrument_code, data_for_instrument in self.all_data.items()}\n",
    "\n",
    "        return adjusted_prices, current_prices\n",
    "\n"
   ]
  },
  {
   "cell_type": "code",
   "execution_count": 2,
   "metadata": {},
   "outputs": [],
   "source": [
    "instrument_list = ['SP500_micro']"
   ]
  },
  {
   "cell_type": "code",
   "execution_count": 3,
   "metadata": {},
   "outputs": [],
   "source": [
    "# Usage\n",
    "if __name__ == \"__main__\":\n",
    "    reader = Read_csv()\n",
    "    adjusted_prices, current_prices = reader.get_data_dict(instrument_list)\n"
   ]
  }
 ],
 "metadata": {
  "kernelspec": {
   "display_name": "factoranalysis",
   "language": "python",
   "name": "python3"
  },
  "language_info": {
   "codemirror_mode": {
    "name": "ipython",
    "version": 3
   },
   "file_extension": ".py",
   "mimetype": "text/x-python",
   "name": "python",
   "nbconvert_exporter": "python",
   "pygments_lexer": "ipython3",
   "version": "3.9.17"
  },
  "orig_nbformat": 4
 },
 "nbformat": 4,
 "nbformat_minor": 2
}
